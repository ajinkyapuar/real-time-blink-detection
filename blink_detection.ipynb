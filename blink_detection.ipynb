{
 "cells": [
  {
   "attachments": {},
   "cell_type": "markdown",
   "metadata": {},
   "source": [
    "<font size = 6>**Detect eye blinks using Pupil Labs' blink detection pipeline**"
   ]
  },
  {
   "attachments": {},
   "cell_type": "markdown",
   "metadata": {},
   "source": [
    "Detecting eye blinks accurately is a crucial step for many eye tracking applications. On the one hand, the (partial) occlusion of the pupil during eye blinks prevents (hinders) external visual information from entering the retina and, thus, being processed further up the visual hierarchy. In a laboratory setting, for instance, this can be important in order to exclude trials during which a human observer has had no access to the information they were presented with. The (partial) occlusion of the pupil during eye blinks additionally impairs gaze estimation, hence limiting the eye tracker's accuracy. On the other hand, blink statistics, such as blink rate or blink duration, can serve as relevant physiological, clinical, and cognitive parameters. The motivation behind accuratenly detecting eye blinks is therefore two-folds: identifying time periods contaminated by blink-related artifacts as well isolating relevant parameters. <br><br>\n",
    "\n",
    "This Alpha Lab aims to demonstrate how the Pupil Labs blink detection algorithm works and how to use it. In the first part of the tutorial, we will have a look at offline blink detection. To this end, we will provide an example recording (made with a Neon device) that users can explore. In order to be also <b>accessible by users with little coding experience</b> we provide a high-level interface to the blink detection algorithm. In the second part of this Alpha Lab, we will demonstrate how to utilize the blink detection pipeline in order to <b>detect eye blinks in (quasi) real-time</b>. This section will also provide more in-depth insights into the algorithm and its individual components.<br><br>\n",
    "\n",
    "The full code accompanying this notebook can be found here: github.com/pupil-labs/\n",
    "\n",
    "If you want to read a more technical summary of the Pupil Labs blink detection algorithm, you can find a short white paper in the documentation: PROVIDE LINK TO DOCUMENTATION HERE"
   ]
  },
  {
   "attachments": {},
   "cell_type": "markdown",
   "metadata": {},
   "source": [
    "**<font size = 5>Part 1:** Offline blink detection"
   ]
  },
  {
   "attachments": {},
   "cell_type": "markdown",
   "metadata": {},
   "source": [
    "In the first part of this Alpha Lab, we will perform offline blink detection. This part is meant to be easily accessible, even with little coding experience. If you have no recording at hand, don't worry - we provide you with an example recording that you can explore. However, free to test the pipeline with your own recording.<br><br>\n",
    "First, let's import the relevant modules:"
   ]
  },
  {
   "cell_type": "code",
   "execution_count": 1,
   "metadata": {},
   "outputs": [],
   "source": [
    "from blink_detector.blink_detector import blink_detection_pipeline\n",
    "from blink_detector.helper import process_recording\n",
    "import numpy as np"
   ]
  },
  {
   "attachments": {},
   "cell_type": "markdown",
   "metadata": {},
   "source": [
    "Next, we specify the path to the example recording that we want to analyze. If you want to start exploring the example data set, no changes are needed here. In case you have your own recording that you would like to analyze, simply replace the recording path with a path to your own recording. "
   ]
  },
  {
   "cell_type": "code",
   "execution_count": 3,
   "metadata": {},
   "outputs": [],
   "source": [
    "recording_path = \"blink_detector/data/padel_tennis_neon_03-2ded8f56\""
   ]
  },
  {
   "attachments": {},
   "cell_type": "markdown",
   "metadata": {},
   "source": [
    "The Pupil Labs blink detection pipeline computes optical flow from sequences of eye video frames (you can find all the details in the Documentation linked to above). To this end, we first need to extract the frames from the eye camera recording and apply some minor preprocessing to the data. Note that we also have to supply a parameter that specifies if the recording is from a Neon device or not. As the example recording is from a **Neon device**, we set the is_neon parameter to *True*. If you want to try out the blink detection pipeline with an **Invisible recording**, simply set this parameter to *False*. "
   ]
  },
  {
   "cell_type": "code",
   "execution_count": 4,
   "metadata": {},
   "outputs": [],
   "source": [
    "left_eye_images, right_eye_images, ts = process_recording(\n",
    "    recording_path, is_neon=True\n",
    ")"
   ]
  },
  {
   "attachments": {},
   "cell_type": "markdown",
   "metadata": {},
   "source": [
    " In order to detect eye blinks in the recording, we can now call the blink_detection_pipeline function and pass the extracted left and right eye video frames as well as the corresponding timestamps along. Depending on your computer and the length of your recording (if you run the analysis on your own), this can take a while. The function returns a generator object which can be easily converted into a list of blink events:"
   ]
  },
  {
   "cell_type": "code",
   "execution_count": 5,
   "metadata": {},
   "outputs": [],
   "source": [
    "blink_events = list(blink_detection_pipeline(left_eye_images, right_eye_images, ts))"
   ]
  },
  {
   "attachments": {},
   "cell_type": "markdown",
   "metadata": {},
   "source": [
    "**And that's it!**<br><br>\n",
    "Now that we have extracted the dectected blink events, we can obtain some blink statistics that may be useful further down the line. In the following cell, we print a few of those statistics: the total number of detected blinks, the estimated blink rate (in Hz) as well as the average blink duration (in seconds). We can even divide this further up and look into the average durations of the eyelid closing and the re-opening events:"
   ]
  },
  {
   "cell_type": "code",
   "execution_count": 6,
   "metadata": {},
   "outputs": [
    {
     "name": "stdout",
     "output_type": "stream",
     "text": [
      "Number of blinks: 21\n",
      "Blink rate [in Hz]: 0.58\n",
      "Avg. blink duration [in sec]: 0.300\n",
      "Avg. eyelid closing duration [in sec]: 0.131\n",
      "Avg. eyelid opening duration [in sec]: 0.163\n"
     ]
    }
   ],
   "source": [
    "print(\n",
    "    f\"Number of blinks: {len(blink_events)}\"\n",
    "\n",
    "    f\"\\nBlink rate [in Hz]: {len(blink_events) / ((ts[-1] - ts[0])/1e9):.2f}\"\n",
    "\n",
    "    f\"\\nAvg. blink duration [in sec]: {np.mean([blink.blink_duration_s for blink in blink_events]):.3f}\"\n",
    "\n",
    "    f\"\\nAvg. eyelid closing duration [in sec]: {np.mean([blink.eyelid_closing_duration_s for blink in blink_events]):.3f}\"\n",
    "\n",
    "    f\"\\nAvg. eyelid opening duration [in sec]: {np.mean([blink.eyelid_opening_duration_s for blink in blink_events]):.3f}\"\n",
    ")"
   ]
  },
  {
   "attachments": {},
   "cell_type": "markdown",
   "metadata": {},
   "source": [
    "As you see, it is fairly straightforward to apply the blink detection pipeline and extract a number of interesting parameters. In case you took a closer look at the blink duration and the eyelid closing and re-opening times and were wondering why the total blink duration does not (always) equal the sum of the closing and re-opening events: this happens as for some frames between eyelid closing and subsequent re-opening, the optical flow is effectively zero and those are, thus, neither part of the closing or re-opening sequence. However, blink duration is computed from starting time of the closing of the eyelid to the the last frame that is classified as being part of the re-opening sequence. Hence, blink duration will always longer than the sum of the invidiual events.<br><br>\n",
    "To end the first part of this tutorial, we will visualize the detected blinks in order to get an idea of their temporal distribution:"
   ]
  },
  {
   "cell_type": "code",
   "execution_count": null,
   "metadata": {},
   "outputs": [],
   "source": [
    "from blink_detector.helper import visualize_blink_events\n",
    "\n",
    "# Limit the visualization to the first 200 s (if the recording is longer than that)\n",
    "max_duration = 200\n",
    "\n",
    "visualize_blink_events(blink_events, ts, max_duration)"
   ]
  },
  {
   "attachments": {},
   "cell_type": "markdown",
   "metadata": {},
   "source": [
    "We can now see how the detected blinks (shown as green rectangles) are distributed over time and how they vary in duration."
   ]
  },
  {
   "attachments": {},
   "cell_type": "markdown",
   "metadata": {},
   "source": [
    "<font size = 5><b>(2) Blink detection in real time using PL's realtime API</b></font>\n",
    "\n",
    "As you have seen in Part 1, applying the blink detection pipeline to downloaded recordings is fairly straightforward. In the next part of this tutorial, we will show you how you can detect eye blinks in (quasi) real-time utilizing Pupil Lab's Real Time API. This could be useful in order to track blink rate over time (for example, serving as a biomarker of fatigue) or even use certain blink sequences as a means to control an external device. In the following sections, we will show you how to remotely start and stop recordings with your Neon or Invisible device by blinking three times in quick succession.<br><br>\n",
    "\n",
    "Note that we the temporal resolution of the blink detection is limited by the optical flow parameters (i.e., the number of layers and the layer interval) and postprocessing parameters (e.g. the minimum blink duration). Moreover, depending on your computational resources, the demands of the image processing can further impede performance. Thus, there is an inevitable delay in the blink detection, rendering it only quasi real-time. <br><br>\n",
    "**Note:** In order to run this second part of the notebook, it is necessary to download and install *Pupil Lab's Realtime Python API*. You can find the code on GitHub (https://github.com/pupil-labs/realtime-python-api) and detailed instructions on how to install and use the realtime API in the documentation (https://pupil-labs-realtime-api.readthedocs.io)."
   ]
  },
  {
   "attachments": {},
   "cell_type": "markdown",
   "metadata": {},
   "source": [
    "After you have successfully installed the Realtime API, let's first import all the required modules for the realtime blink detection:"
   ]
  },
  {
   "cell_type": "code",
   "execution_count": 1,
   "metadata": {},
   "outputs": [],
   "source": [
    "import nest_asyncio\n",
    "from pupil_labs.realtime_api.simple import discover_one_device, discover_devices\n",
    "from blink_detector.helper import stream_images_and_timestamps\n",
    "from blink_detector.blink_detector import (\n",
    "    blink_detection_pipeline,\n",
    "    successive_blink_detector,\n",
    ")"
   ]
  },
  {
   "attachments": {},
   "cell_type": "markdown",
   "metadata": {},
   "source": [
    "Next, we need to setup the real time API. We use Python's *asyncio* to implement asynchronous communication. In some environments, for example when working with Jupyter notebooks, asyncio won't work out of the box. We will make use of *nest_asyncio*, which allows *asyncio* to work also within Jupyter notebooks. "
   ]
  },
  {
   "cell_type": "code",
   "execution_count": 2,
   "metadata": {},
   "outputs": [],
   "source": [
    "nest_asyncio.apply()"
   ]
  },
  {
   "cell_type": "code",
   "execution_count": 3,
   "metadata": {},
   "outputs": [],
   "source": [
    "devices = discover_devices(5)\n",
    "device = next(d for d in devices if \"tom\" in d.phone_name.lower())"
   ]
  },
  {
   "attachments": {},
   "cell_type": "markdown",
   "metadata": {},
   "source": [
    "Printing the device name and its IP helps to make sure that the discovered device is indeed <br>\n",
    "the device you would like to connect with."
   ]
  },
  {
   "cell_type": "code",
   "execution_count": 4,
   "metadata": {},
   "outputs": [
    {
     "name": "stdout",
     "output_type": "stream",
     "text": [
      "Phone IP address: 192.168.20.131\n",
      "Phone name: Neon Companion Tom\n"
     ]
    }
   ],
   "source": [
    "print(f\"Phone IP address: {device.phone_ip}\")\n",
    "print(f\"Phone name: {device.phone_name}\")"
   ]
  },
  {
   "attachments": {},
   "cell_type": "markdown",
   "metadata": {},
   "source": [
    "Start and end Neon recording with 4 blinks in quick succession. Send event message to Neon with 3 blinks in quick succession."
   ]
  },
  {
   "cell_type": "code",
   "execution_count": null,
   "metadata": {},
   "outputs": [],
   "source": [
    "device_is_recording = False\n",
    "\n",
    "left_images, right_images, timestamps = stream_images_and_timestamps(\n",
    "    device, is_neon=True\n",
    ")\n",
    "\n",
    "detect_three_successive_blinks = successive_blink_detector(\n",
    "    n_successive_blinks=3, \n",
    ")\n",
    "\n",
    "for blink_events in blink_detection_pipeline(left_images, right_images, timestamps):\n",
    "\n",
    "    toggle_recording = detect_three_successive_blinks(blink_events)\n",
    "\n",
    "    if toggle_recording:\n",
    "        if device_is_recording:\n",
    "            print(\"Stop recording\")\n",
    "            device.recording_cancel()\n",
    "            device_is_recording = False\n",
    "        else:\n",
    "            print(\"Start recording\")\n",
    "            device.recording_start()\n",
    "            device_is_recording = True\n",
    "        toggle_recording = False"
   ]
  },
  {
   "attachments": {},
   "cell_type": "markdown",
   "metadata": {},
   "source": [
    "**Real-time blink rate since start of recording and over the last 30s**"
   ]
  },
  {
   "attachments": {},
   "cell_type": "markdown",
   "metadata": {},
   "source": [
    "In this last part of the Alpha Lab, we will show you how t utilize the Realtime API in combination with the blink detection pipeline in order to perform realtime blink-rate estimation."
   ]
  },
  {
   "cell_type": "code",
   "execution_count": null,
   "metadata": {},
   "outputs": [],
   "source": [
    "import time\n",
    "import numpy as np\n",
    "\n",
    "# we need to re-initialize the streams as the previous ones have been exhausted\n",
    "left_images, right_images, timestamps = stream_images_and_timestamps(\n",
    "    device, is_neon=True\n",
    ")\n",
    "\n",
    "blink_counter = 0\n",
    "starting_time = time.time()\n",
    "\n",
    "# program breaks if you manage to blink more than 100 times within 30s\n",
    "blink_timings = np.zeros(100)\n",
    "\n",
    "for blink_events in blink_detection_pipeline(left_images, right_images, timestamps):\n",
    "\n",
    "    blink_counter += 1\n",
    "\n",
    "    blink_timings = np.roll(blink_timings, 1)\n",
    "    blink_timings[0] = blink_events.start_time / 1e9 \n",
    "\n",
    "    # compute how many blinks happened within the last 30s\n",
    "    blink_counter = np.sum(\n",
    "        (blink_timings > (time.time() - 30)) & (blink_timings < time.time())\n",
    "    )\n",
    "\n",
    "    total_blink_rate = blink_counter / (time.time() - starting_time)\n",
    "\n",
    "    if time.time() - starting_time > 30:    \n",
    "        last_30s_blink_rate = blink_counter / 30.0\n",
    "    else:\n",
    "        last_30s_blink_rate = total_blink_rate\n",
    "\n",
    "    print('Blink rate (total) [in Hz]: %.3f ||| Blink rate (last 30s) [in Hz]: %.3f' \n",
    "    % (total_blink_rate, last_30s_blink_rate), end='\\r')\n"
   ]
  },
  {
   "cell_type": "code",
   "execution_count": null,
   "metadata": {},
   "outputs": [
    {
     "data": {
      "text/plain": [
       "3.594893217086792"
      ]
     },
     "execution_count": 33,
     "metadata": {},
     "output_type": "execute_result"
    },
    {
     "name": "stderr",
     "output_type": "stream",
     "text": [
      "no RTP received for 10 seconds: closing\n",
      "no RTP received for 10 seconds: closing\n",
      "no RTP received for 10 seconds: closing\n",
      "no RTP received for 10 seconds: closing\n"
     ]
    }
   ],
   "source": [
    "blink_events.start_time / 1e9 - starting_time"
   ]
  },
  {
   "attachments": {},
   "cell_type": "markdown",
   "metadata": {},
   "source": [
    "**(2.3) Set up real-time data stream**"
   ]
  },
  {
   "cell_type": "code",
   "execution_count": 3,
   "metadata": {},
   "outputs": [
    {
     "ename": "NameError",
     "evalue": "name 'nest_asyncio' is not defined",
     "output_type": "error",
     "traceback": [
      "\u001b[0;31m---------------------------------------------------------------------------\u001b[0m",
      "\u001b[0;31mNameError\u001b[0m                                 Traceback (most recent call last)",
      "Cell \u001b[0;32mIn[3], line 12\u001b[0m\n\u001b[1;32m     10\u001b[0m         \u001b[39mawait\u001b[39;00m nest_asyncio\u001b[39m.\u001b[39msleep(\u001b[39m1\u001b[39m)\n\u001b[1;32m     11\u001b[0m     future\u001b[39m.\u001b[39mcancel()\n\u001b[0;32m---> 12\u001b[0m nest_asyncio\u001b[39m.\u001b[39mget_event_loop()\u001b[39m.\u001b[39mrun_until_complete(main())    \n",
      "\u001b[0;31mNameError\u001b[0m: name 'nest_asyncio' is not defined"
     ]
    }
   ],
   "source": [
    "import asyncio\n",
    "\n",
    "async def loop():\n",
    "    while True:\n",
    "        print(\"gibberish\")\n",
    "        await asyncio.sleep(0.5)\n",
    "\n",
    "async def main():\n",
    "    future = asyncio.ensure_future(loop())\n",
    "    for i in range(100):\n",
    "        print(\"pass\")\n",
    "        await asyncio.sleep(1)\n",
    "    future.cancel()\n",
    "asyncio.get_event_loop().run_until_complete(main())    "
   ]
  },
  {
   "attachments": {},
   "cell_type": "markdown",
   "metadata": {},
   "source": [
    "**(2.4) Run blink detection pipeline**"
   ]
  },
  {
   "attachments": {},
   "cell_type": "markdown",
   "metadata": {},
   "source": [
    "Detect and print blink events in (quasi) real-time"
   ]
  },
  {
   "cell_type": "code",
   "execution_count": 6,
   "metadata": {},
   "outputs": [
    {
     "name": "stdout",
     "output_type": "stream",
     "text": [
      "None\n"
     ]
    },
    {
     "name": "stderr",
     "output_type": "stream",
     "text": [
      "Exception in thread Thread-6 (background):\n",
      "Traceback (most recent call last):\n",
      "  File \"/Users/tpfeffer/opt/anaconda3/envs/py310/lib/python3.10/site-packages/pupil_labs/realtime_api/simple/device.py\", line 203, in _receive_item\n",
      "    return self._most_recent_item[sensor].popleft()\n",
      "IndexError: pop from an empty deque\n",
      "\n",
      "During handling of the above exception, another exception occurred:\n",
      "\n",
      "Traceback (most recent call last):\n",
      "  File \"/Users/tpfeffer/opt/anaconda3/envs/py310/lib/python3.10/threading.py\", line 1016, in _bootstrap_inner\n",
      "    self.run()\n",
      "  File \"/Users/tpfeffer/opt/anaconda3/envs/py310/lib/python3.10/threading.py\", line 953, in run\n",
      "    self._target(*self._args, **self._kwargs)\n",
      "  File \"/var/folders/6s/7t24f5ts6d51jy_w7578ts2h0000gn/T/ipykernel_21115/367240790.py\", line 16, in background\n",
      "  File \"/Users/tpfeffer/projects/real-time-blink-detection/blink_detector/blink_detector.py\", line 315, in extract_blink_events\n",
      "    for event1, event2 in pairwise(onsets_offset_events):\n",
      "  File \"/Users/tpfeffer/projects/real-time-blink-detection/blink_detector/helper.py\", line 162, in pairwise\n",
      "    next(b, None)\n",
      "  File \"/Users/tpfeffer/projects/real-time-blink-detection/blink_detector/blink_detector.py\", line 273, in compile_into_events\n",
      "    for event_type, samples in groupby(samples, key=lambda sample: sample[0]):\n",
      "  File \"/Users/tpfeffer/opt/anaconda3/envs/py310/lib/python3.10/site-packages/more_itertools/recipes.py\", line 718, in convolve\n",
      "    for x in chain(signal, repeat(0, n - 1)):\n",
      "  File \"/Users/tpfeffer/projects/real-time-blink-detection/blink_detector/blink_detector.py\", line 254, in <genexpr>\n",
      "    probas = (p for p, ts in probas_timestamps1)\n",
      "  File \"/Users/tpfeffer/projects/real-time-blink-detection/blink_detector/blink_detector.py\", line 182, in predict_class_probas\n",
      "    for window in windowed(optical_flow, n=window_length):\n",
      "  File \"/Users/tpfeffer/opt/anaconda3/envs/py310/lib/python3.10/site-packages/more_itertools/more.py\", line 835, in windowed\n",
      "    for _ in map(window.append, seq):\n",
      "  File \"/Users/tpfeffer/projects/real-time-blink-detection/blink_detector/blink_detector.py\", line 136, in calculate_optical_flow\n",
      "    for consecutive_frames in windowed(eye_pair_frames, n=of_params.step_size + 1):\n",
      "  File \"/Users/tpfeffer/opt/anaconda3/envs/py310/lib/python3.10/site-packages/more_itertools/more.py\", line 835, in windowed\n",
      "    for _ in map(window.append, seq):\n",
      "  File \"/var/folders/6s/7t24f5ts6d51jy_w7578ts2h0000gn/T/ipykernel_21115/367240790.py\", line 4, in <genexpr>\n",
      "  File \"/Users/tpfeffer/projects/real-time-blink-detection/blink_detector/helper.py\", line 290, in video_stream\n",
      "    bgr_pixels, frame_datetime = device.receive_eyes_video_frame()\n",
      "  File \"/Users/tpfeffer/opt/anaconda3/envs/py310/lib/python3.10/site-packages/pupil_labs/realtime_api/simple/device.py\", line 184, in receive_eyes_video_frame\n",
      "    return self._receive_item(Sensor.Name.EYES.value, timeout_seconds)\n",
      "  File \"/Users/tpfeffer/opt/anaconda3/envs/py310/lib/python3.10/site-packages/pupil_labs/realtime_api/simple/device.py\", line 209, in _receive_item\n",
      "    return self._most_recent_item[sensor].popleft()\n",
      "IndexError: pop from an empty deque\n"
     ]
    },
    {
     "name": "stdout",
     "output_type": "stream",
     "text": [
      "None\n",
      "None\n",
      "None\n",
      "None\n",
      "None\n",
      "None\n",
      "None\n",
      "None\n",
      "None\n",
      "BlinkEvent(start_time=1.6847659196974748e+18, end_time=1.684765919877597e+18, label='blink', blink_duration_s=0.180122112, eyelid_closing_duration_s=0.130121984, eyelid_opening_duration_s=0.045000192)\n",
      "BlinkEvent(start_time=1.6847659196974748e+18, end_time=1.684765919877597e+18, label='blink', blink_duration_s=0.180122112, eyelid_closing_duration_s=0.130121984, eyelid_opening_duration_s=0.045000192)\n",
      "BlinkEvent(start_time=1.6847659196974748e+18, end_time=1.684765919877597e+18, label='blink', blink_duration_s=0.180122112, eyelid_closing_duration_s=0.130121984, eyelid_opening_duration_s=0.045000192)\n",
      "BlinkEvent(start_time=1.6847659196974748e+18, end_time=1.684765919877597e+18, label='blink', blink_duration_s=0.180122112, eyelid_closing_duration_s=0.130121984, eyelid_opening_duration_s=0.045000192)\n",
      "BlinkEvent(start_time=1.6847659196974748e+18, end_time=1.684765919877597e+18, label='blink', blink_duration_s=0.180122112, eyelid_closing_duration_s=0.130121984, eyelid_opening_duration_s=0.045000192)\n",
      "BlinkEvent(start_time=1.6847659196974748e+18, end_time=1.684765919877597e+18, label='blink', blink_duration_s=0.180122112, eyelid_closing_duration_s=0.130121984, eyelid_opening_duration_s=0.045000192)\n",
      "BlinkEvent(start_time=1.6847659196974748e+18, end_time=1.684765919877597e+18, label='blink', blink_duration_s=0.180122112, eyelid_closing_duration_s=0.130121984, eyelid_opening_duration_s=0.045000192)\n",
      "BlinkEvent(start_time=1.6847659196974748e+18, end_time=1.684765919877597e+18, label='blink', blink_duration_s=0.180122112, eyelid_closing_duration_s=0.130121984, eyelid_opening_duration_s=0.045000192)\n",
      "BlinkEvent(start_time=1.6847659196974748e+18, end_time=1.684765919877597e+18, label='blink', blink_duration_s=0.180122112, eyelid_closing_duration_s=0.130121984, eyelid_opening_duration_s=0.045000192)\n",
      "BlinkEvent(start_time=1.6847659196974748e+18, end_time=1.684765919877597e+18, label='blink', blink_duration_s=0.180122112, eyelid_closing_duration_s=0.130121984, eyelid_opening_duration_s=0.045000192)\n",
      "BlinkEvent(start_time=1.6847659196974748e+18, end_time=1.684765919877597e+18, label='blink', blink_duration_s=0.180122112, eyelid_closing_duration_s=0.130121984, eyelid_opening_duration_s=0.045000192)\n",
      "BlinkEvent(start_time=1.6847659196974748e+18, end_time=1.684765919877597e+18, label='blink', blink_duration_s=0.180122112, eyelid_closing_duration_s=0.130121984, eyelid_opening_duration_s=0.045000192)\n",
      "BlinkEvent(start_time=1.6847659196974748e+18, end_time=1.684765919877597e+18, label='blink', blink_duration_s=0.180122112, eyelid_closing_duration_s=0.130121984, eyelid_opening_duration_s=0.045000192)\n",
      "BlinkEvent(start_time=1.6847659196974748e+18, end_time=1.684765919877597e+18, label='blink', blink_duration_s=0.180122112, eyelid_closing_duration_s=0.130121984, eyelid_opening_duration_s=0.045000192)\n",
      "BlinkEvent(start_time=1.6847659196974748e+18, end_time=1.684765919877597e+18, label='blink', blink_duration_s=0.180122112, eyelid_closing_duration_s=0.130121984, eyelid_opening_duration_s=0.045000192)\n",
      "BlinkEvent(start_time=1.6847659196974748e+18, end_time=1.684765919877597e+18, label='blink', blink_duration_s=0.180122112, eyelid_closing_duration_s=0.130121984, eyelid_opening_duration_s=0.045000192)\n",
      "BlinkEvent(start_time=1.6847659196974748e+18, end_time=1.684765919877597e+18, label='blink', blink_duration_s=0.180122112, eyelid_closing_duration_s=0.130121984, eyelid_opening_duration_s=0.045000192)\n",
      "BlinkEvent(start_time=1.6847659196974748e+18, end_time=1.684765919877597e+18, label='blink', blink_duration_s=0.180122112, eyelid_closing_duration_s=0.130121984, eyelid_opening_duration_s=0.045000192)\n",
      "BlinkEvent(start_time=1.6847659196974748e+18, end_time=1.684765919877597e+18, label='blink', blink_duration_s=0.180122112, eyelid_closing_duration_s=0.130121984, eyelid_opening_duration_s=0.045000192)\n",
      "BlinkEvent(start_time=1.6847659196974748e+18, end_time=1.684765919877597e+18, label='blink', blink_duration_s=0.180122112, eyelid_closing_duration_s=0.130121984, eyelid_opening_duration_s=0.045000192)\n",
      "BlinkEvent(start_time=1.6847659196974748e+18, end_time=1.684765919877597e+18, label='blink', blink_duration_s=0.180122112, eyelid_closing_duration_s=0.130121984, eyelid_opening_duration_s=0.045000192)\n",
      "BlinkEvent(start_time=1.6847659196974748e+18, end_time=1.684765919877597e+18, label='blink', blink_duration_s=0.180122112, eyelid_closing_duration_s=0.130121984, eyelid_opening_duration_s=0.045000192)\n",
      "BlinkEvent(start_time=1.6847659196974748e+18, end_time=1.684765919877597e+18, label='blink', blink_duration_s=0.180122112, eyelid_closing_duration_s=0.130121984, eyelid_opening_duration_s=0.045000192)\n",
      "BlinkEvent(start_time=1.6847659196974748e+18, end_time=1.684765919877597e+18, label='blink', blink_duration_s=0.180122112, eyelid_closing_duration_s=0.130121984, eyelid_opening_duration_s=0.045000192)\n",
      "BlinkEvent(start_time=1.6847659196974748e+18, end_time=1.684765919877597e+18, label='blink', blink_duration_s=0.180122112, eyelid_closing_duration_s=0.130121984, eyelid_opening_duration_s=0.045000192)\n",
      "BlinkEvent(start_time=1.6847659196974748e+18, end_time=1.684765919877597e+18, label='blink', blink_duration_s=0.180122112, eyelid_closing_duration_s=0.130121984, eyelid_opening_duration_s=0.045000192)\n",
      "BlinkEvent(start_time=1.6847659196974748e+18, end_time=1.684765919877597e+18, label='blink', blink_duration_s=0.180122112, eyelid_closing_duration_s=0.130121984, eyelid_opening_duration_s=0.045000192)\n",
      "BlinkEvent(start_time=1.6847659196974748e+18, end_time=1.684765919877597e+18, label='blink', blink_duration_s=0.180122112, eyelid_closing_duration_s=0.130121984, eyelid_opening_duration_s=0.045000192)\n",
      "BlinkEvent(start_time=1.6847659196974748e+18, end_time=1.684765919877597e+18, label='blink', blink_duration_s=0.180122112, eyelid_closing_duration_s=0.130121984, eyelid_opening_duration_s=0.045000192)\n",
      "BlinkEvent(start_time=1.6847659196974748e+18, end_time=1.684765919877597e+18, label='blink', blink_duration_s=0.180122112, eyelid_closing_duration_s=0.130121984, eyelid_opening_duration_s=0.045000192)\n",
      "BlinkEvent(start_time=1.6847659196974748e+18, end_time=1.684765919877597e+18, label='blink', blink_duration_s=0.180122112, eyelid_closing_duration_s=0.130121984, eyelid_opening_duration_s=0.045000192)\n",
      "BlinkEvent(start_time=1.6847659196974748e+18, end_time=1.684765919877597e+18, label='blink', blink_duration_s=0.180122112, eyelid_closing_duration_s=0.130121984, eyelid_opening_duration_s=0.045000192)\n",
      "BlinkEvent(start_time=1.6847659196974748e+18, end_time=1.684765919877597e+18, label='blink', blink_duration_s=0.180122112, eyelid_closing_duration_s=0.130121984, eyelid_opening_duration_s=0.045000192)\n",
      "BlinkEvent(start_time=1.6847659196974748e+18, end_time=1.684765919877597e+18, label='blink', blink_duration_s=0.180122112, eyelid_closing_duration_s=0.130121984, eyelid_opening_duration_s=0.045000192)\n",
      "BlinkEvent(start_time=1.6847659196974748e+18, end_time=1.684765919877597e+18, label='blink', blink_duration_s=0.180122112, eyelid_closing_duration_s=0.130121984, eyelid_opening_duration_s=0.045000192)\n",
      "BlinkEvent(start_time=1.6847659196974748e+18, end_time=1.684765919877597e+18, label='blink', blink_duration_s=0.180122112, eyelid_closing_duration_s=0.130121984, eyelid_opening_duration_s=0.045000192)\n",
      "BlinkEvent(start_time=1.6847659196974748e+18, end_time=1.684765919877597e+18, label='blink', blink_duration_s=0.180122112, eyelid_closing_duration_s=0.130121984, eyelid_opening_duration_s=0.045000192)\n",
      "BlinkEvent(start_time=1.6847659196974748e+18, end_time=1.684765919877597e+18, label='blink', blink_duration_s=0.180122112, eyelid_closing_duration_s=0.130121984, eyelid_opening_duration_s=0.045000192)\n",
      "BlinkEvent(start_time=1.6847659196974748e+18, end_time=1.684765919877597e+18, label='blink', blink_duration_s=0.180122112, eyelid_closing_duration_s=0.130121984, eyelid_opening_duration_s=0.045000192)\n",
      "BlinkEvent(start_time=1.6847659196974748e+18, end_time=1.684765919877597e+18, label='blink', blink_duration_s=0.180122112, eyelid_closing_duration_s=0.130121984, eyelid_opening_duration_s=0.045000192)\n",
      "BlinkEvent(start_time=1.6847659196974748e+18, end_time=1.684765919877597e+18, label='blink', blink_duration_s=0.180122112, eyelid_closing_duration_s=0.130121984, eyelid_opening_duration_s=0.045000192)\n",
      "BlinkEvent(start_time=1.6847659196974748e+18, end_time=1.684765919877597e+18, label='blink', blink_duration_s=0.180122112, eyelid_closing_duration_s=0.130121984, eyelid_opening_duration_s=0.045000192)\n",
      "BlinkEvent(start_time=1.6847659196974748e+18, end_time=1.684765919877597e+18, label='blink', blink_duration_s=0.180122112, eyelid_closing_duration_s=0.130121984, eyelid_opening_duration_s=0.045000192)\n",
      "BlinkEvent(start_time=1.6847659196974748e+18, end_time=1.684765919877597e+18, label='blink', blink_duration_s=0.180122112, eyelid_closing_duration_s=0.130121984, eyelid_opening_duration_s=0.045000192)\n",
      "BlinkEvent(start_time=1.6847659196974748e+18, end_time=1.684765919877597e+18, label='blink', blink_duration_s=0.180122112, eyelid_closing_duration_s=0.130121984, eyelid_opening_duration_s=0.045000192)\n",
      "BlinkEvent(start_time=1.6847659196974748e+18, end_time=1.684765919877597e+18, label='blink', blink_duration_s=0.180122112, eyelid_closing_duration_s=0.130121984, eyelid_opening_duration_s=0.045000192)\n",
      "BlinkEvent(start_time=1.6847659196974748e+18, end_time=1.684765919877597e+18, label='blink', blink_duration_s=0.180122112, eyelid_closing_duration_s=0.130121984, eyelid_opening_duration_s=0.045000192)\n",
      "BlinkEvent(start_time=1.6847659196974748e+18, end_time=1.684765919877597e+18, label='blink', blink_duration_s=0.180122112, eyelid_closing_duration_s=0.130121984, eyelid_opening_duration_s=0.045000192)\n",
      "BlinkEvent(start_time=1.6847659196974748e+18, end_time=1.684765919877597e+18, label='blink', blink_duration_s=0.180122112, eyelid_closing_duration_s=0.130121984, eyelid_opening_duration_s=0.045000192)\n",
      "BlinkEvent(start_time=1.6847659196974748e+18, end_time=1.684765919877597e+18, label='blink', blink_duration_s=0.180122112, eyelid_closing_duration_s=0.130121984, eyelid_opening_duration_s=0.045000192)\n",
      "BlinkEvent(start_time=1.6847659196974748e+18, end_time=1.684765919877597e+18, label='blink', blink_duration_s=0.180122112, eyelid_closing_duration_s=0.130121984, eyelid_opening_duration_s=0.045000192)\n",
      "BlinkEvent(start_time=1.6847659196974748e+18, end_time=1.684765919877597e+18, label='blink', blink_duration_s=0.180122112, eyelid_closing_duration_s=0.130121984, eyelid_opening_duration_s=0.045000192)\n",
      "BlinkEvent(start_time=1.6847659196974748e+18, end_time=1.684765919877597e+18, label='blink', blink_duration_s=0.180122112, eyelid_closing_duration_s=0.130121984, eyelid_opening_duration_s=0.045000192)\n"
     ]
    }
   ],
   "source": [
    "\n",
    "# create three independent generator objects from the video stream\n",
    "stream_left, stream_right, stream_ts = tee(video_stream(device), 3)\n",
    "\n",
    "left_images = (left for left, _, _ in stream_left)\n",
    "right_images = (right for _, right, _ in stream_right)\n",
    "\n",
    "# timestamps need to be converted to ns\n",
    "timestamps = (1e9 * timestamp for _, _, timestamp in stream_ts)\n",
    "\n",
    "blink_event = None\n",
    "import threading\n",
    "\n",
    "def background():\n",
    "    global blink_event\n",
    "    while True:\n",
    "        blink_event = next(blink_detection_pipeline(left_images, right_images, timestamps))\n",
    "        return blink_event\n",
    "\n",
    "def foreground():\n",
    "    while True:\n",
    "        print(blink_event)\n",
    "        time.sleep(1)\n",
    "\n",
    "bg = threading.Thread(target=background)\n",
    "fg = threading.Thread(target=foreground)\n",
    "bg.start()\n",
    "fg.start()\n"
   ]
  },
  {
   "cell_type": "code",
   "execution_count": 2,
   "metadata": {},
   "outputs": [
    {
     "ename": "",
     "evalue": "",
     "output_type": "error",
     "traceback": [
      "\u001b[1;31mCanceled future for execute_request message before replies were done"
     ]
    },
    {
     "ename": "",
     "evalue": "",
     "output_type": "error",
     "traceback": [
      "\u001b[1;31mThe Kernel crashed while executing code in the the current cell or a previous cell. Please review the code in the cell(s) to identify a possible cause of the failure. Click <a href='https://aka.ms/vscodeJupyterKernelCrash'>here</a> for more info. View Jupyter <a href='command:jupyter.viewOutput'>log</a> for further details."
     ]
    }
   ],
   "source": [
    "from PyQt5 import QtWidgets, QtCore, QtGui\n",
    "import sys\n",
    "import numpy as np\n",
    "\n",
    "class MainWindow(QtWidgets.QMainWindow):\n",
    "\n",
    "    def __init__(self, *args, **kwargs):\n",
    "        super(MainWindow, self).__init__(*args, **kwargs)\n",
    "\n",
    "        self.data = np.random.randint(0, 255, (100, 240, 320), dtype=np.uint8)\n",
    "\n",
    "        self.label = QtWidgets.QLabel(self)\n",
    "        self.setCentralWidget(self.label)\n",
    "\n",
    "        self.frame_num = 0\n",
    "\n",
    "        self.timer = QtCore.QTimer()\n",
    "        self.timer.timeout.connect(self.update_frame)\n",
    "        self.timer.start(50)  # update every 100 ms\n",
    "\n",
    "    def update_frame(self):\n",
    "        frame = self.data[self.frame_num, :, :]\n",
    "\n",
    "        # Convert the numpy array to a QImage\n",
    "        qimg = QtGui.QImage(frame.data, frame.shape[1], frame.shape[0], \n",
    "                            frame.strides[0], QtGui.QImage.Format_Grayscale8)\n",
    "\n",
    "        # Convert the QImage to a QPixmap and show it\n",
    "        self.label.setPixmap(QtGui.QPixmap.fromImage(qimg))\n",
    "        self.frame_num = (self.frame_num + 1) % self.data.shape[0]\n",
    "\n",
    "\n",
    "app = QtWidgets.QApplication(sys.argv)\n",
    "w = MainWindow()\n",
    "w.show()\n",
    "sys.exit(app.exec_())\n"
   ]
  },
  {
   "cell_type": "code",
   "execution_count": null,
   "metadata": {},
   "outputs": [],
   "source": [
    "device.receive_eyes_video_frame()"
   ]
  },
  {
   "cell_type": "code",
   "execution_count": 36,
   "metadata": {},
   "outputs": [
    {
     "data": {
      "text/plain": [
       "0"
      ]
     },
     "execution_count": 36,
     "metadata": {},
     "output_type": "execute_result"
    }
   ],
   "source": [
    "import numpy as np\n",
    "np.random.randint(0, 2)"
   ]
  },
  {
   "cell_type": "code",
   "execution_count": 37,
   "metadata": {},
   "outputs": [
    {
     "name": "stdout",
     "output_type": "stream",
     "text": [
      "0\n",
      "1\n",
      "2\n",
      "3\n",
      "4\n"
     ]
    }
   ],
   "source": []
  }
 ],
 "metadata": {
  "kernelspec": {
   "display_name": "tom_py310",
   "language": "python",
   "name": "python3"
  },
  "language_info": {
   "codemirror_mode": {
    "name": "ipython",
    "version": 3
   },
   "file_extension": ".py",
   "mimetype": "text/x-python",
   "name": "python",
   "nbconvert_exporter": "python",
   "pygments_lexer": "ipython3",
   "version": "3.10.11"
  },
  "orig_nbformat": 4
 },
 "nbformat": 4,
 "nbformat_minor": 2
}

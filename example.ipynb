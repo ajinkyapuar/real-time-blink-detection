{
 "cells": [
  {
   "cell_type": "code",
   "execution_count": 1,
   "metadata": {},
   "outputs": [
    {
     "name": "stderr",
     "output_type": "stream",
     "text": [
      "/cluster/anaconda3/envs/tom_py310/lib/python3.10/site-packages/xgboost/compat.py:36: FutureWarning: pandas.Int64Index is deprecated and will be removed from pandas in a future version. Use pandas.Index with the appropriate dtype instead.\n",
      "  from pandas import MultiIndex, Int64Index\n"
     ]
    }
   ],
   "source": [
    "import pathlib\n",
    "import numpy as np\n",
    "\n",
    "from blink_detector.blink_detector import (\n",
    "    calculate_optical_flow, \n",
    "    predict_class_probas, \n",
    "    smooth_probas, \n",
    "    threshold_probas, \n",
    "    compile_into_events, \n",
    "    filter_events, \n",
    "    extract_blink_events,\n",
    ")\n",
    "\n",
    "from blink_detector.helper import (\n",
    "    preprocess_frames, \n",
    "    get_video_frames, \n",
    "    get_timestamps,\n",
    "    OfParams,\n",
    "    PPParams,\n",
    "    create_grid,\n",
    "    get_classifier,\n",
    ")"
   ]
  },
  {
   "attachments": {},
   "cell_type": "markdown",
   "metadata": {},
   "source": [
    "**Run blink detection pipeline with example Neon recording**"
   ]
  },
  {
   "attachments": {},
   "cell_type": "markdown",
   "metadata": {},
   "source": [
    "Load example recording"
   ]
  },
  {
   "cell_type": "code",
   "execution_count": 2,
   "metadata": {},
   "outputs": [],
   "source": [
    "recording_path = pathlib.Path(\"/users/tom/experiments/neon_blink_detection/datasets/train_data/padel_tennis_neon_03-2ded8f56\")\n",
    "\n",
    "left_eye_images, right_eye_images = get_video_frames(recording_path)\n",
    "\n",
    "timestamps = get_timestamps(recording_path)\n",
    "\n",
    "left_eye_images, right_eye_images = preprocess_frames(left_eye_images, right_eye_images, is_neon=True)\n",
    "\n",
    "clf = get_classifier(is_neon=True)\n"
   ]
  },
  {
   "attachments": {},
   "cell_type": "markdown",
   "metadata": {},
   "source": [
    "**Define optical flow and postprocessing parameters** <br>\n",
    "Take default parameters for both"
   ]
  },
  {
   "cell_type": "code",
   "execution_count": null,
   "metadata": {},
   "outputs": [],
   "source": [
    "of_params = OfParams()\n",
    "pp_params = PPParams()\n",
    "grid = create_grid(of_params.img_shape, of_params.grid_size)"
   ]
  },
  {
   "attachments": {},
   "cell_type": "markdown",
   "metadata": {},
   "source": [
    "**Predict blink events from video frames**"
   ]
  },
  {
   "cell_type": "code",
   "execution_count": 6,
   "metadata": {},
   "outputs": [],
   "source": [
    "images_timestamps = zip(zip(left_eye_images, right_eye_images), timestamps)\n",
    "\n",
    "x = calculate_optical_flow(images_timestamps, of_params, grid)\n",
    "x = predict_class_probas(x, clf, of_params)\n",
    "x = smooth_probas(x, pp_params)\n",
    "x = threshold_probas(x, pp_params)\n",
    "x = compile_into_events(x)\n",
    "x = filter_events(x)\n",
    "\n",
    "blink_events = list(extract_blink_events(x, pp_params))"
   ]
  },
  {
   "attachments": {},
   "cell_type": "markdown",
   "metadata": {},
   "source": [
    "**Visualize blink events**"
   ]
  },
  {
   "cell_type": "code",
   "execution_count": null,
   "metadata": {},
   "outputs": [],
   "source": []
  },
  {
   "attachments": {},
   "cell_type": "markdown",
   "metadata": {},
   "source": [
    "**Using the real-time API**"
   ]
  },
  {
   "cell_type": "code",
   "execution_count": 10,
   "metadata": {},
   "outputs": [],
   "source": [
    "from pupil_labs.realtime_api.simple import discover_one_device\n",
    "from blink_detector.blink_detector import blink_detection_pipeline\n",
    "from itertools import tee\n",
    "import time\n",
    "import nest_asyncio\n",
    "import cv2"
   ]
  },
  {
   "attachments": {},
   "cell_type": "markdown",
   "metadata": {},
   "source": [
    "**Set up real time API**"
   ]
  },
  {
   "cell_type": "code",
   "execution_count": null,
   "metadata": {},
   "outputs": [],
   "source": [
    "# needed when running in notebook\n",
    "nest_asyncio.apply()\n",
    "\n",
    "# calling the two functions too close together seems to cause a crash, therefore we wait a second\n",
    "time.sleep(1)\n",
    "\n",
    "device = discover_one_device()\n",
    "\n",
    "# check if correct device is connected\n",
    "print(f\"Phone IP address: {device.phone_ip}\")\n",
    "print(f\"Phone name: {device.phone_name}\")"
   ]
  },
  {
   "cell_type": "code",
   "execution_count": null,
   "metadata": {},
   "outputs": [],
   "source": [
    "# stream and resize frames from realtime API\n",
    "def video_steam(device):\n",
    "    while True:\n",
    "        bgr_pixels, frame_datetime = device.receive_eyes_video_frame()\n",
    "\n",
    "        left_images = cv2.resize(bgr_pixels[:, :192, 0], (64, 64), interpolation=3)\n",
    "        right_images = cv2.resize(bgr_pixels[:, 192:, 0], (64, 64), interpolation=3)\n",
    "\n",
    "        yield left_images, right_images, frame_datetime"
   ]
  },
  {
   "cell_type": "code",
   "execution_count": null,
   "metadata": {},
   "outputs": [],
   "source": [
    "# create three copies of the video stream generator and extract the left and right images and timestamps from each\n",
    "sl, sr, st = tee(video_steam(device),3)\n",
    "frames_left = (l for l, r, t in sl)\n",
    "frames_right = (r for l, r, t in sr)\n",
    "timestamps = (1e9*t for l, r, t in st)        \n",
    "\n",
    "# run the blink detection pipeline and obtain blink events in quasi real time\n",
    "for blinks in blink_detection_pipeline(frames_left, frames_right, timestamps, clf_path=clf_path):\n",
    "    print(blinks)\n",
    "\n",
    "    "
   ]
  }
 ],
 "metadata": {
  "kernelspec": {
   "display_name": "tom_py310",
   "language": "python",
   "name": "python3"
  },
  "language_info": {
   "codemirror_mode": {
    "name": "ipython",
    "version": 3
   },
   "file_extension": ".py",
   "mimetype": "text/x-python",
   "name": "python",
   "nbconvert_exporter": "python",
   "pygments_lexer": "ipython3",
   "version": "3.10.10"
  },
  "orig_nbformat": 4
 },
 "nbformat": 4,
 "nbformat_minor": 2
}
